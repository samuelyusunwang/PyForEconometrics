{
 "cells": [
  {
   "cell_type": "code",
   "execution_count": 1,
   "metadata": {
    "collapsed": true
   },
   "outputs": [],
   "source": [
    "# Import Libary\n",
    "\n",
    "from numpy import mat, cov, mean, hstack, multiply,sqrt,diag, genfromtxt, \\\n",
    "squeeze, ones, array, vstack, kron, zeros, eye, savez_compressed\n",
    "from numpy.linalg import lstsq, inv\n",
    "from scipy.stats import chi2\n",
    "from pandas import read_csv"
   ]
  },
  {
   "cell_type": "markdown",
   "metadata": {},
   "source": [
    "# Import Data"
   ]
  },
  {
   "cell_type": "code",
   "execution_count": 2,
   "metadata": {
    "collapsed": true
   },
   "outputs": [],
   "source": [
    "# Import Data\n",
    "data = read_csv('..\\Data\\FamaFrench.csv')"
   ]
  },
  {
   "cell_type": "code",
   "execution_count": 3,
   "metadata": {
    "collapsed": false
   },
   "outputs": [],
   "source": [
    "# Split using both named colums and ix for larger blocks\n",
    "dates = data['date'].values\n",
    "factors = data[['VWMe', 'SMB', 'HML']].values\n",
    "riskfree = data['RF'].values\n",
    "portfolios = data.ix[:, 5:].values"
   ]
  },
  {
   "cell_type": "code",
   "execution_count": 4,
   "metadata": {
    "collapsed": false
   },
   "outputs": [],
   "source": [
    "# Use mat for easier linear algebra\n",
    "factors = mat(factors)\n",
    "riskfree = mat(riskfree)\n",
    "portfolios = mat(portfolios)"
   ]
  },
  {
   "cell_type": "code",
   "execution_count": 5,
   "metadata": {
    "collapsed": false
   },
   "outputs": [],
   "source": [
    "# Shape information\n",
    "T,K = factors.shape\n",
    "T,N = portfolios.shape"
   ]
  },
  {
   "cell_type": "code",
   "execution_count": 6,
   "metadata": {
    "collapsed": false
   },
   "outputs": [],
   "source": [
    "# Reshape rf and compute excess returns\n",
    "riskfree.shape = T,1\n",
    "excessReturns = portfolios - riskfree"
   ]
  },
  {
   "cell_type": "markdown",
   "metadata": {},
   "source": [
    "# Fama McBeth"
   ]
  },
  {
   "cell_type": "code",
   "execution_count": 7,
   "metadata": {
    "collapsed": false
   },
   "outputs": [],
   "source": [
    "# Time series regressions\n",
    "X = hstack((ones((T, 1)), factors))\n",
    "out = lstsq(X, excessReturns)\n",
    "alpha = out[0][0]\n",
    "beta = out[0][1:]"
   ]
  },
  {
   "cell_type": "code",
   "execution_count": 9,
   "metadata": {
    "collapsed": true
   },
   "outputs": [],
   "source": [
    "# Crosssection regression\n",
    "avgExcessReturns = mean(excessReturns, 0)\n",
    "\n",
    "out = lstsq(beta.T, avgExcessReturns.T)\n",
    "riskPremia = out[0]"
   ]
  },
  {
   "cell_type": "code",
   "execution_count": 10,
   "metadata": {
    "collapsed": false
   },
   "outputs": [
    {
     "data": {
      "text/plain": [
       "matrix([[ 1.30989756,  1.08529063,  1.074662  ,  0.96302219,  0.98496718,\n",
       "          1.06909171,  1.04155003,  0.95902319,  0.97875629,  1.05020197,\n",
       "          1.14164406,  1.0132696 ,  1.01286868,  0.96148018,  1.14467854,\n",
       "          1.06612416,  1.03078498,  1.00960431,  1.04365536,  1.22842095,\n",
       "          1.03104193,  0.95757439,  0.97527731,  1.05455022,  1.10451275],\n",
       "        [ 1.28916295,  1.61001141,  1.18117487,  1.22485887,  1.34530808,\n",
       "          1.05198817,  0.98802256,  0.86189893,  0.81778888,  0.93732422,\n",
       "          0.7883002 ,  0.51512103,  0.41299482,  0.46464673,  0.49699993,\n",
       "          0.28566577,  0.24300243,  0.22141899,  0.20155396,  0.29737316,\n",
       "         -0.1507105 , -0.18934339, -0.21726041, -0.1731627 ,  0.00759986],\n",
       "        [ 0.39425156,  0.33173673,  0.46480276,  0.5853827 ,  0.90516173,\n",
       "         -0.26472086,  0.18770969,  0.35532098,  0.55624082,  0.84930135,\n",
       "         -0.19804113,  0.07200581,  0.33794592,  0.50675635,  0.9142738 ,\n",
       "         -0.36923371,  0.13278923,  0.29796746,  0.58568701,  0.98335151,\n",
       "         -0.25080309, -0.01067232,  0.31271493,  0.71154668,  0.85267944]])"
      ]
     },
     "execution_count": 10,
     "metadata": {},
     "output_type": "execute_result"
    }
   ],
   "source": [
    "beta"
   ]
  },
  {
   "cell_type": "code",
   "execution_count": 11,
   "metadata": {
    "collapsed": false
   },
   "outputs": [
    {
     "data": {
      "text/plain": [
       "matrix([[ 0.55535352],\n",
       "        [ 0.2394288 ],\n",
       "        [ 0.23400198]])"
      ]
     },
     "execution_count": 11,
     "metadata": {},
     "output_type": "execute_result"
    }
   ],
   "source": [
    "riskPremia"
   ]
  },
  {
   "cell_type": "markdown",
   "metadata": {
    "collapsed": true
   },
   "source": [
    "# Inference"
   ]
  },
  {
   "cell_type": "code",
   "execution_count": 14,
   "metadata": {
    "collapsed": false
   },
   "outputs": [],
   "source": [
    "# Moment conditions\n",
    "X = hstack((ones((T, 1)), factors))\n",
    "p = vstack((alpha, beta))\n",
    "epsilon = excessReturns - X * p\n",
    "moments1 = kron(epsilon, ones((1, K + 1)))\n",
    "moments1 = multiply(moments1, kron(ones((1, N)), X))\n",
    "u = excessReturns - riskPremia.T * beta\n",
    "moments2 = u * beta.T"
   ]
  },
  {
   "cell_type": "code",
   "execution_count": 15,
   "metadata": {
    "collapsed": true
   },
   "outputs": [],
   "source": [
    "# Score covariance\n",
    "S = mat(cov(hstack((moments1, moments2)).T))"
   ]
  },
  {
   "cell_type": "code",
   "execution_count": 18,
   "metadata": {
    "collapsed": false
   },
   "outputs": [],
   "source": [
    "# Jacobian\n",
    "G = mat(zeros((N * K + N + K, N * K + N + K)))\n",
    "SigmaX = X.T * X / T\n",
    "G[:N * K + N, :N * K + N] = kron(eye(N), SigmaX)\n",
    "G[N * K + N:, N * K + N:] = -beta * beta.T\n",
    "\n",
    "for i in range(N):\n",
    "    temp = zeros((K, K + 1))\n",
    "    values = mean(u[:, i]) - multiply(beta[:, i], riskPremia)\n",
    "    temp[:, 1:] = diag(values.A1)\n",
    "    G[N * K + N:, i * (K + 1):(i + 1) * (K + 1)] = temp\n",
    "\n",
    "vcv = inv(G.T) * S * inv(G) / T"
   ]
  },
  {
   "cell_type": "code",
   "execution_count": 23,
   "metadata": {
    "collapsed": false
   },
   "outputs": [],
   "source": [
    "# Chi2 test/J-value\n",
    "vcvAlpha = vcv[0:N * K + N:4, 0:N * K + N:4]\n",
    "J = alpha * inv(vcvAlpha) * alpha.T\n",
    "J = J[0, 0]\n",
    "Jpval = 1 - chi2(25).cdf(J)"
   ]
  },
  {
   "cell_type": "markdown",
   "metadata": {},
   "source": [
    "# Output"
   ]
  },
  {
   "cell_type": "code",
   "execution_count": 29,
   "metadata": {
    "collapsed": false
   },
   "outputs": [
    {
     "name": "stdout",
     "output_type": "stream",
     "text": [
      " Annualized Risk Premia\n",
      " Market SMB HML\n",
      "\n",
      "Premia 6.6642 2.8731 2.8080\n",
      "Std. Err. 0.5994 0.4010 0.4296\n",
      "\n",
      "\n",
      "\n",
      "test:95.2879\n",
      "value:0.0000\n",
      "Size: 1, Value:1   Alpha   Beta(VWM)   Beta(SMB)   Beta(HML)\n",
      "Coefficients:    -0.8354     1.3099     1.2892     0.3943\n",
      "Std Err.          0.1820     0.1269     0.1671     0.2748\n",
      "Tstat            -4.5904    10.3196     7.7127     1.4348\n",
      "\n",
      "Size: 1, Value:2   Alpha   Beta(VWM)   Beta(SMB)   Beta(HML)\n",
      "Coefficients:    -0.3911     1.0853     1.6100     0.3317\n",
      "Std Err.          0.1237     0.0637     0.1893     0.1444\n",
      "Tstat            -3.1616    17.0351     8.5061     2.2971\n",
      "\n",
      "Size: 1, Value:3   Alpha   Beta(VWM)   Beta(SMB)   Beta(HML)\n",
      "Coefficients:    -0.1219     1.0747     1.1812     0.4648\n",
      "Std Err.          0.0997     0.0419     0.0938     0.0723\n",
      "Tstat            -1.2225    25.6206    12.5952     6.4310\n",
      "\n",
      "Size: 1, Value:4   Alpha   Beta(VWM)   Beta(SMB)   Beta(HML)\n",
      "Coefficients:     0.0388     0.9630     1.2249     0.5854\n",
      "Std Err.          0.0692     0.0232     0.1003     0.0353\n",
      "Tstat             0.5614    41.5592    12.2108    16.5705\n",
      "\n",
      "Size: 1, Value:5   Alpha   Beta(VWM)   Beta(SMB)   Beta(HML)\n",
      "Coefficients:     0.0918     0.9850     1.3453     0.9052\n",
      "Std Err.          0.0676     0.0255     0.0818     0.0610\n",
      "Tstat             1.3580    38.5669    16.4489    14.8404\n",
      "\n",
      "Size: 2, Value:1   Alpha   Beta(VWM)   Beta(SMB)   Beta(HML)\n",
      "Coefficients:    -0.2397     1.0691     1.0520    -0.2647\n",
      "Std Err.          0.0725     0.0318     0.0609     0.0591\n",
      "Tstat            -3.3052    33.6540    17.2706    -4.4768\n",
      "\n",
      "Size: 2, Value:2   Alpha   Beta(VWM)   Beta(SMB)   Beta(HML)\n",
      "Coefficients:    -0.0194     1.0416     0.9880     0.1877\n",
      "Std Err.          0.0615     0.0170     0.0776     0.0350\n",
      "Tstat            -0.3162    61.1252    12.7393     5.3646\n",
      "\n",
      "Size: 2, Value:3   Alpha   Beta(VWM)   Beta(SMB)   Beta(HML)\n",
      "Coefficients:     0.0898     0.9590     0.8619     0.3553\n",
      "Std Err.          0.0517     0.0170     0.0733     0.0320\n",
      "Tstat             1.7359    56.4856    11.7528    11.0968\n",
      "\n",
      "Size: 2, Value:4   Alpha   Beta(VWM)   Beta(SMB)   Beta(HML)\n",
      "Coefficients:     0.0482     0.9788     0.8178     0.5562\n",
      "Std Err.          0.0495     0.0138     0.0454     0.0281\n",
      "Tstat             0.9733    70.7006    18.0210    19.8055\n",
      "\n",
      "Size: 2, Value:5   Alpha   Beta(VWM)   Beta(SMB)   Beta(HML)\n",
      "Coefficients:    -0.0109     1.0502     0.9373     0.8493\n",
      "Std Err.          0.0596     0.0182     0.0281     0.0263\n",
      "Tstat            -0.1830    57.7092    33.3971    32.2980\n",
      "\n",
      "Size: 3, Value:1   Alpha   Beta(VWM)   Beta(SMB)   Beta(HML)\n",
      "Coefficients:    -0.1556     1.1416     0.7883    -0.1980\n",
      "Std Err.          0.0591     0.0190     0.0445     0.0411\n",
      "Tstat            -2.6320    60.1173    17.6973    -4.8171\n",
      "\n",
      "Size: 3, Value:2   Alpha   Beta(VWM)   Beta(SMB)   Beta(HML)\n",
      "Coefficients:     0.0889     1.0133     0.5151     0.0720\n",
      "Std Err.          0.0553     0.0179     0.0340     0.0334\n",
      "Tstat             1.6068    56.6380    15.1651     2.1546\n",
      "\n",
      "Size: 3, Value:3   Alpha   Beta(VWM)   Beta(SMB)   Beta(HML)\n",
      "Coefficients:     0.1118     1.0129     0.4130     0.3379\n",
      "Std Err.          0.0578     0.0267     0.0324     0.0321\n",
      "Tstat             1.9344    37.9790    12.7488    10.5399\n",
      "\n",
      "Size: 3, Value:4   Alpha   Beta(VWM)   Beta(SMB)   Beta(HML)\n",
      "Coefficients:     0.0818     0.9615     0.4646     0.5068\n",
      "Std Err.          0.0568     0.0141     0.0475     0.0301\n",
      "Tstat             1.4399    68.3360     9.7754    16.8580\n",
      "\n",
      "Size: 3, Value:5   Alpha   Beta(VWM)   Beta(SMB)   Beta(HML)\n",
      "Coefficients:    -0.0526     1.1447     0.4970     0.9143\n",
      "Std Err.          0.0687     0.0197     0.0509     0.0390\n",
      "Tstat            -0.7655    58.0319     9.7690    23.4302\n",
      "\n",
      "Size: 4, Value:1   Alpha   Beta(VWM)   Beta(SMB)   Beta(HML)\n",
      "Coefficients:     0.0902     1.0661     0.2857    -0.3692\n",
      "Std Err.          0.0498     0.0151     0.0444     0.0323\n",
      "Tstat             1.8127    70.4710     6.4268   -11.4334\n",
      "\n",
      "Size: 4, Value:2   Alpha   Beta(VWM)   Beta(SMB)   Beta(HML)\n",
      "Coefficients:    -0.0104     1.0308     0.2430     0.1328\n",
      "Std Err.          0.0534     0.0217     0.0300     0.0294\n",
      "Tstat            -0.1952    47.5567     8.0926     4.5183\n",
      "\n",
      "Size: 4, Value:3   Alpha   Beta(VWM)   Beta(SMB)   Beta(HML)\n",
      "Coefficients:     0.0392     1.0096     0.2214     0.2980\n",
      "Std Err.          0.0572     0.0209     0.0436     0.0486\n",
      "Tstat             0.6862    48.3271     5.0836     6.1333\n",
      "\n",
      "Size: 4, Value:4   Alpha   Beta(VWM)   Beta(SMB)   Beta(HML)\n",
      "Coefficients:     0.0148     1.0437     0.2016     0.5857\n",
      "Std Err.          0.0593     0.0224     0.0343     0.0484\n",
      "Tstat             0.2497    46.5053     5.8694    12.0922\n",
      "\n",
      "Size: 4, Value:5   Alpha   Beta(VWM)   Beta(SMB)   Beta(HML)\n",
      "Coefficients:    -0.1762     1.2284     0.2974     0.9834\n",
      "Std Err.          0.0803     0.0224     0.0490     0.0378\n",
      "Tstat            -2.1927    54.8427     6.0726    26.0265\n",
      "\n",
      "Size: 5, Value:1   Alpha   Beta(VWM)   Beta(SMB)   Beta(HML)\n",
      "Coefficients:     0.0794     1.0310    -0.1507    -0.2508\n",
      "Std Err.          0.0372     0.0095     0.0247     0.0168\n",
      "Tstat             2.1369   108.0844    -6.1067   -14.9673\n",
      "\n",
      "Size: 5, Value:2   Alpha   Beta(VWM)   Beta(SMB)   Beta(HML)\n",
      "Coefficients:     0.0535     0.9576    -0.1893    -0.0107\n",
      "Std Err.          0.0457     0.0170     0.0243     0.0239\n",
      "Tstat             1.1690    56.3228    -7.7765    -0.4458\n",
      "\n",
      "Size: 5, Value:3   Alpha   Beta(VWM)   Beta(SMB)   Beta(HML)\n",
      "Coefficients:    -0.0236     0.9753    -0.2173     0.3127\n",
      "Std Err.          0.0559     0.0178     0.0309     0.0256\n",
      "Tstat            -0.4225    54.6936    -7.0217    12.2061\n",
      "\n",
      "Size: 5, Value:4   Alpha   Beta(VWM)   Beta(SMB)   Beta(HML)\n",
      "Coefficients:    -0.1978     1.0546    -0.1732     0.7115\n",
      "Std Err.          0.0587     0.0230     0.0300     0.0316\n",
      "Tstat            -3.3679    45.7933    -5.7749    22.5339\n",
      "\n",
      "Size: 5, Value:5   Alpha   Beta(VWM)   Beta(SMB)   Beta(HML)\n",
      "Coefficients:    -1.2737     1.1045     0.0076     0.8527\n",
      "Std Err.          0.3557     0.1143     0.1594     0.1490\n",
      "Tstat            -3.5805     9.6657     0.0477     5.7232\n",
      "\n"
     ]
    }
   ],
   "source": [
    "# Output\n",
    "vcvRiskPremia = vcv[N * K + N:, N * K + N:]\n",
    "annualizedRP = 12 * riskPremia\n",
    "arp = list(squeeze(annualizedRP.A))\n",
    "arpSE = list(sqrt(12 * diag(vcvRiskPremia)))\n",
    "print(' Annualized Risk Premia')\n",
    "print(' Market SMB HML')\n",
    "print('')\n",
    "print('Premia {0:0.4f} {1:0.4f} {2:0.4f}'.format(arp[0], arp[1], arp[2]))\n",
    "print('Std. Err. {0:0.4f} {1:0.4f} {2:0.4f}'.format(arpSE[0], arpSE[1], arpSE[2]))\n",
    "print('\\n\\n')\n",
    "print('test:{:0.4f}'.format(J))\n",
    "print('value:{:0.4f}'.format(Jpval))\n",
    "i = 0\n",
    "betaSE = []\n",
    "for j in range(5):\n",
    "    for k in range(5):\n",
    "        a = alpha[0, i]\n",
    "        b = beta[:, i].A1\n",
    "        variances = diag(vcv[(K + 1) * i:(K + 1) * (i + 1), (K + 1) * i:(K + 1) * (i + 1)])\n",
    "        betaSE.append(sqrt(variances))\n",
    "        s = sqrt(variances)\n",
    "        c = hstack((a, b))\n",
    "        t = c / s\n",
    "        print('Size: {:}, Value:{:}   Alpha   Beta(VWM)   Beta(SMB)   Beta(HML)'.format(j + 1, k + 1))\n",
    "        print('Coefficients: {:>10,.4f} {:>10,.4f} {:>10,.4f} {:>10,.4f}'.format(a, b[0], b[1], b[2]))\n",
    "        print('Std Err.      {:>10,.4f} {:>10,.4f} {:>10,.4f} {:>10,.4f}'.format(s[0], s[1], s[2], s[3]))\n",
    "        print('Tstat         {:>10,.4f} {:>10,.4f} {:>10,.4f} {:>10,.4f}'.format(t[0], t[1], t[2], t[3]))\n",
    "        print('')\n",
    "        i += 1"
   ]
  },
  {
   "cell_type": "code",
   "execution_count": null,
   "metadata": {
    "collapsed": true
   },
   "outputs": [],
   "source": []
  }
 ],
 "metadata": {
  "kernelspec": {
   "display_name": "Python 3",
   "language": "python",
   "name": "python3"
  },
  "language_info": {
   "codemirror_mode": {
    "name": "ipython",
    "version": 3
   },
   "file_extension": ".py",
   "mimetype": "text/x-python",
   "name": "python",
   "nbconvert_exporter": "python",
   "pygments_lexer": "ipython3",
   "version": "3.4.3"
  }
 },
 "nbformat": 4,
 "nbformat_minor": 0
}
